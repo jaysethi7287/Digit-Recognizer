{
 "cells": [
  {
   "cell_type": "code",
   "execution_count": 1,
   "id": "2d44e342",
   "metadata": {},
   "outputs": [],
   "source": [
    "import os\n",
    "import pandas as pd\n",
    "import tensorflow as tf\n",
    "import numpy as np\n",
    "from sklearn.model_selection import train_test_split\n",
    "from sklearn.metrics import confusion_matrix\n",
    "from sklearn.utils.multiclass import unique_labels\n",
    "from tensorflow.keras.models import Sequential, save_model, load_model\n",
    "from tensorflow.keras.preprocessing.image import ImageDataGenerator\n",
    "from tensorflow.keras.callbacks import ReduceLROnPlateau\n",
    "from tensorflow.keras.layers import Dense, Input, Conv2D, BatchNormalization, MaxPool2D, Flatten, Dropout\n",
    "from tensorflow.keras.utils import plot_model, to_categorical\n",
    "from tensorflow.keras.optimizers import RMSprop, SGD, Adam, Adagrad, Adadelta, Adamax, Nadam, Optimizer\n",
    "import matplotlib.pyplot as plt\n",
    "from typing import List, Union\n",
    "import sys\n",
    "os.environ['TF_CPP_MIN_LOG_LEVEL'] = '2'\n",
    "%matplotlib inline"
   ]
  },
  {
   "cell_type": "markdown",
   "id": "e7035717",
   "metadata": {},
   "source": [
    "# Exploring our Data\n",
    "\n",
    "****"
   ]
  },
  {
   "cell_type": "code",
   "execution_count": 2,
   "id": "83ae4d6b",
   "metadata": {},
   "outputs": [],
   "source": [
    "data_folder = os.path.join(os.getcwd(), 'Data', 'Kaggle MNIST Digits')"
   ]
  },
  {
   "cell_type": "markdown",
   "id": "b17ca389",
   "metadata": {},
   "source": [
    "Listing the contents of the folder:"
   ]
  },
  {
   "cell_type": "code",
   "execution_count": 3,
   "id": "b53ab39b",
   "metadata": {},
   "outputs": [
    {
     "name": "stdout",
     "output_type": "stream",
     "text": [
      "['test.csv', 'train.csv', 'sample_submission.csv']\n"
     ]
    }
   ],
   "source": [
    "print(os.listdir(data_folder))"
   ]
  },
  {
   "cell_type": "code",
   "execution_count": 4,
   "id": "8f9c15bc",
   "metadata": {},
   "outputs": [
    {
     "name": "stdout",
     "output_type": "stream",
     "text": [
      "Training data shape:  (42000, 785)\n",
      "Test data shape:  (28000, 784)\n"
     ]
    }
   ],
   "source": [
    "train_data = pd.read_csv(os.path.join(data_folder, 'train.csv'))\n",
    "test_data = pd.read_csv(os.path.join(data_folder, 'test.csv'))\n",
    "print(\"Training data shape: \", train_data.shape)\n",
    "print(\"Test data shape: \", test_data.shape)"
   ]
  },
  {
   "cell_type": "code",
   "execution_count": 5,
   "id": "63a23d05",
   "metadata": {},
   "outputs": [
    {
     "data": {
      "text/html": [
       "<div>\n",
       "<style scoped>\n",
       "    .dataframe tbody tr th:only-of-type {\n",
       "        vertical-align: middle;\n",
       "    }\n",
       "\n",
       "    .dataframe tbody tr th {\n",
       "        vertical-align: top;\n",
       "    }\n",
       "\n",
       "    .dataframe thead th {\n",
       "        text-align: right;\n",
       "    }\n",
       "</style>\n",
       "<table border=\"1\" class=\"dataframe\">\n",
       "  <thead>\n",
       "    <tr style=\"text-align: right;\">\n",
       "      <th></th>\n",
       "      <th>label</th>\n",
       "      <th>pixel0</th>\n",
       "      <th>pixel1</th>\n",
       "      <th>pixel2</th>\n",
       "      <th>pixel3</th>\n",
       "      <th>pixel4</th>\n",
       "      <th>pixel5</th>\n",
       "      <th>pixel6</th>\n",
       "      <th>pixel7</th>\n",
       "      <th>pixel8</th>\n",
       "      <th>...</th>\n",
       "      <th>pixel774</th>\n",
       "      <th>pixel775</th>\n",
       "      <th>pixel776</th>\n",
       "      <th>pixel777</th>\n",
       "      <th>pixel778</th>\n",
       "      <th>pixel779</th>\n",
       "      <th>pixel780</th>\n",
       "      <th>pixel781</th>\n",
       "      <th>pixel782</th>\n",
       "      <th>pixel783</th>\n",
       "    </tr>\n",
       "  </thead>\n",
       "  <tbody>\n",
       "    <tr>\n",
       "      <th>0</th>\n",
       "      <td>1</td>\n",
       "      <td>0</td>\n",
       "      <td>0</td>\n",
       "      <td>0</td>\n",
       "      <td>0</td>\n",
       "      <td>0</td>\n",
       "      <td>0</td>\n",
       "      <td>0</td>\n",
       "      <td>0</td>\n",
       "      <td>0</td>\n",
       "      <td>...</td>\n",
       "      <td>0</td>\n",
       "      <td>0</td>\n",
       "      <td>0</td>\n",
       "      <td>0</td>\n",
       "      <td>0</td>\n",
       "      <td>0</td>\n",
       "      <td>0</td>\n",
       "      <td>0</td>\n",
       "      <td>0</td>\n",
       "      <td>0</td>\n",
       "    </tr>\n",
       "    <tr>\n",
       "      <th>1</th>\n",
       "      <td>0</td>\n",
       "      <td>0</td>\n",
       "      <td>0</td>\n",
       "      <td>0</td>\n",
       "      <td>0</td>\n",
       "      <td>0</td>\n",
       "      <td>0</td>\n",
       "      <td>0</td>\n",
       "      <td>0</td>\n",
       "      <td>0</td>\n",
       "      <td>...</td>\n",
       "      <td>0</td>\n",
       "      <td>0</td>\n",
       "      <td>0</td>\n",
       "      <td>0</td>\n",
       "      <td>0</td>\n",
       "      <td>0</td>\n",
       "      <td>0</td>\n",
       "      <td>0</td>\n",
       "      <td>0</td>\n",
       "      <td>0</td>\n",
       "    </tr>\n",
       "    <tr>\n",
       "      <th>2</th>\n",
       "      <td>1</td>\n",
       "      <td>0</td>\n",
       "      <td>0</td>\n",
       "      <td>0</td>\n",
       "      <td>0</td>\n",
       "      <td>0</td>\n",
       "      <td>0</td>\n",
       "      <td>0</td>\n",
       "      <td>0</td>\n",
       "      <td>0</td>\n",
       "      <td>...</td>\n",
       "      <td>0</td>\n",
       "      <td>0</td>\n",
       "      <td>0</td>\n",
       "      <td>0</td>\n",
       "      <td>0</td>\n",
       "      <td>0</td>\n",
       "      <td>0</td>\n",
       "      <td>0</td>\n",
       "      <td>0</td>\n",
       "      <td>0</td>\n",
       "    </tr>\n",
       "    <tr>\n",
       "      <th>3</th>\n",
       "      <td>4</td>\n",
       "      <td>0</td>\n",
       "      <td>0</td>\n",
       "      <td>0</td>\n",
       "      <td>0</td>\n",
       "      <td>0</td>\n",
       "      <td>0</td>\n",
       "      <td>0</td>\n",
       "      <td>0</td>\n",
       "      <td>0</td>\n",
       "      <td>...</td>\n",
       "      <td>0</td>\n",
       "      <td>0</td>\n",
       "      <td>0</td>\n",
       "      <td>0</td>\n",
       "      <td>0</td>\n",
       "      <td>0</td>\n",
       "      <td>0</td>\n",
       "      <td>0</td>\n",
       "      <td>0</td>\n",
       "      <td>0</td>\n",
       "    </tr>\n",
       "    <tr>\n",
       "      <th>4</th>\n",
       "      <td>0</td>\n",
       "      <td>0</td>\n",
       "      <td>0</td>\n",
       "      <td>0</td>\n",
       "      <td>0</td>\n",
       "      <td>0</td>\n",
       "      <td>0</td>\n",
       "      <td>0</td>\n",
       "      <td>0</td>\n",
       "      <td>0</td>\n",
       "      <td>...</td>\n",
       "      <td>0</td>\n",
       "      <td>0</td>\n",
       "      <td>0</td>\n",
       "      <td>0</td>\n",
       "      <td>0</td>\n",
       "      <td>0</td>\n",
       "      <td>0</td>\n",
       "      <td>0</td>\n",
       "      <td>0</td>\n",
       "      <td>0</td>\n",
       "    </tr>\n",
       "  </tbody>\n",
       "</table>\n",
       "<p>5 rows × 785 columns</p>\n",
       "</div>"
      ],
      "text/plain": [
       "   label  pixel0  pixel1  pixel2  pixel3  pixel4  pixel5  pixel6  pixel7  \\\n",
       "0      1       0       0       0       0       0       0       0       0   \n",
       "1      0       0       0       0       0       0       0       0       0   \n",
       "2      1       0       0       0       0       0       0       0       0   \n",
       "3      4       0       0       0       0       0       0       0       0   \n",
       "4      0       0       0       0       0       0       0       0       0   \n",
       "\n",
       "   pixel8  ...  pixel774  pixel775  pixel776  pixel777  pixel778  pixel779  \\\n",
       "0       0  ...         0         0         0         0         0         0   \n",
       "1       0  ...         0         0         0         0         0         0   \n",
       "2       0  ...         0         0         0         0         0         0   \n",
       "3       0  ...         0         0         0         0         0         0   \n",
       "4       0  ...         0         0         0         0         0         0   \n",
       "\n",
       "   pixel780  pixel781  pixel782  pixel783  \n",
       "0         0         0         0         0  \n",
       "1         0         0         0         0  \n",
       "2         0         0         0         0  \n",
       "3         0         0         0         0  \n",
       "4         0         0         0         0  \n",
       "\n",
       "[5 rows x 785 columns]"
      ]
     },
     "metadata": {},
     "output_type": "display_data"
    }
   ],
   "source": [
    "display(train_data.head())"
   ]
  },
  {
   "cell_type": "markdown",
   "id": "0a5d6bba",
   "metadata": {},
   "source": [
    "Our training data consists of 784 feature columns and a \"label\" column. The granularity of our data is an image classification. This classification is in the form of 784 \"pixel\" columns that contain a value between 0-255. These numeric values represent the pixel intensity within each grid squrae contained in a 28x28 grid (yielding 784 values per image). The \"label\" column contains the digit represented by the image, and ranges from 0-9. There are 42,000 different digit classifications in our training data."
   ]
  },
  {
   "cell_type": "code",
   "execution_count": 6,
   "id": "5d0d99bf",
   "metadata": {
    "scrolled": true
   },
   "outputs": [
    {
     "data": {
      "text/html": [
       "<div>\n",
       "<style scoped>\n",
       "    .dataframe tbody tr th:only-of-type {\n",
       "        vertical-align: middle;\n",
       "    }\n",
       "\n",
       "    .dataframe tbody tr th {\n",
       "        vertical-align: top;\n",
       "    }\n",
       "\n",
       "    .dataframe thead th {\n",
       "        text-align: right;\n",
       "    }\n",
       "</style>\n",
       "<table border=\"1\" class=\"dataframe\">\n",
       "  <thead>\n",
       "    <tr style=\"text-align: right;\">\n",
       "      <th></th>\n",
       "      <th>pixel0</th>\n",
       "      <th>pixel1</th>\n",
       "      <th>pixel2</th>\n",
       "      <th>pixel3</th>\n",
       "      <th>pixel4</th>\n",
       "      <th>pixel5</th>\n",
       "      <th>pixel6</th>\n",
       "      <th>pixel7</th>\n",
       "      <th>pixel8</th>\n",
       "      <th>pixel9</th>\n",
       "      <th>...</th>\n",
       "      <th>pixel774</th>\n",
       "      <th>pixel775</th>\n",
       "      <th>pixel776</th>\n",
       "      <th>pixel777</th>\n",
       "      <th>pixel778</th>\n",
       "      <th>pixel779</th>\n",
       "      <th>pixel780</th>\n",
       "      <th>pixel781</th>\n",
       "      <th>pixel782</th>\n",
       "      <th>pixel783</th>\n",
       "    </tr>\n",
       "  </thead>\n",
       "  <tbody>\n",
       "    <tr>\n",
       "      <th>0</th>\n",
       "      <td>0</td>\n",
       "      <td>0</td>\n",
       "      <td>0</td>\n",
       "      <td>0</td>\n",
       "      <td>0</td>\n",
       "      <td>0</td>\n",
       "      <td>0</td>\n",
       "      <td>0</td>\n",
       "      <td>0</td>\n",
       "      <td>0</td>\n",
       "      <td>...</td>\n",
       "      <td>0</td>\n",
       "      <td>0</td>\n",
       "      <td>0</td>\n",
       "      <td>0</td>\n",
       "      <td>0</td>\n",
       "      <td>0</td>\n",
       "      <td>0</td>\n",
       "      <td>0</td>\n",
       "      <td>0</td>\n",
       "      <td>0</td>\n",
       "    </tr>\n",
       "    <tr>\n",
       "      <th>1</th>\n",
       "      <td>0</td>\n",
       "      <td>0</td>\n",
       "      <td>0</td>\n",
       "      <td>0</td>\n",
       "      <td>0</td>\n",
       "      <td>0</td>\n",
       "      <td>0</td>\n",
       "      <td>0</td>\n",
       "      <td>0</td>\n",
       "      <td>0</td>\n",
       "      <td>...</td>\n",
       "      <td>0</td>\n",
       "      <td>0</td>\n",
       "      <td>0</td>\n",
       "      <td>0</td>\n",
       "      <td>0</td>\n",
       "      <td>0</td>\n",
       "      <td>0</td>\n",
       "      <td>0</td>\n",
       "      <td>0</td>\n",
       "      <td>0</td>\n",
       "    </tr>\n",
       "    <tr>\n",
       "      <th>2</th>\n",
       "      <td>0</td>\n",
       "      <td>0</td>\n",
       "      <td>0</td>\n",
       "      <td>0</td>\n",
       "      <td>0</td>\n",
       "      <td>0</td>\n",
       "      <td>0</td>\n",
       "      <td>0</td>\n",
       "      <td>0</td>\n",
       "      <td>0</td>\n",
       "      <td>...</td>\n",
       "      <td>0</td>\n",
       "      <td>0</td>\n",
       "      <td>0</td>\n",
       "      <td>0</td>\n",
       "      <td>0</td>\n",
       "      <td>0</td>\n",
       "      <td>0</td>\n",
       "      <td>0</td>\n",
       "      <td>0</td>\n",
       "      <td>0</td>\n",
       "    </tr>\n",
       "    <tr>\n",
       "      <th>3</th>\n",
       "      <td>0</td>\n",
       "      <td>0</td>\n",
       "      <td>0</td>\n",
       "      <td>0</td>\n",
       "      <td>0</td>\n",
       "      <td>0</td>\n",
       "      <td>0</td>\n",
       "      <td>0</td>\n",
       "      <td>0</td>\n",
       "      <td>0</td>\n",
       "      <td>...</td>\n",
       "      <td>0</td>\n",
       "      <td>0</td>\n",
       "      <td>0</td>\n",
       "      <td>0</td>\n",
       "      <td>0</td>\n",
       "      <td>0</td>\n",
       "      <td>0</td>\n",
       "      <td>0</td>\n",
       "      <td>0</td>\n",
       "      <td>0</td>\n",
       "    </tr>\n",
       "    <tr>\n",
       "      <th>4</th>\n",
       "      <td>0</td>\n",
       "      <td>0</td>\n",
       "      <td>0</td>\n",
       "      <td>0</td>\n",
       "      <td>0</td>\n",
       "      <td>0</td>\n",
       "      <td>0</td>\n",
       "      <td>0</td>\n",
       "      <td>0</td>\n",
       "      <td>0</td>\n",
       "      <td>...</td>\n",
       "      <td>0</td>\n",
       "      <td>0</td>\n",
       "      <td>0</td>\n",
       "      <td>0</td>\n",
       "      <td>0</td>\n",
       "      <td>0</td>\n",
       "      <td>0</td>\n",
       "      <td>0</td>\n",
       "      <td>0</td>\n",
       "      <td>0</td>\n",
       "    </tr>\n",
       "  </tbody>\n",
       "</table>\n",
       "<p>5 rows × 784 columns</p>\n",
       "</div>"
      ],
      "text/plain": [
       "   pixel0  pixel1  pixel2  pixel3  pixel4  pixel5  pixel6  pixel7  pixel8  \\\n",
       "0       0       0       0       0       0       0       0       0       0   \n",
       "1       0       0       0       0       0       0       0       0       0   \n",
       "2       0       0       0       0       0       0       0       0       0   \n",
       "3       0       0       0       0       0       0       0       0       0   \n",
       "4       0       0       0       0       0       0       0       0       0   \n",
       "\n",
       "   pixel9  ...  pixel774  pixel775  pixel776  pixel777  pixel778  pixel779  \\\n",
       "0       0  ...         0         0         0         0         0         0   \n",
       "1       0  ...         0         0         0         0         0         0   \n",
       "2       0  ...         0         0         0         0         0         0   \n",
       "3       0  ...         0         0         0         0         0         0   \n",
       "4       0  ...         0         0         0         0         0         0   \n",
       "\n",
       "   pixel780  pixel781  pixel782  pixel783  \n",
       "0         0         0         0         0  \n",
       "1         0         0         0         0  \n",
       "2         0         0         0         0  \n",
       "3         0         0         0         0  \n",
       "4         0         0         0         0  \n",
       "\n",
       "[5 rows x 784 columns]"
      ]
     },
     "metadata": {},
     "output_type": "display_data"
    }
   ],
   "source": [
    "display(test_data.head())"
   ]
  },
  {
   "cell_type": "markdown",
   "id": "a4e85409",
   "metadata": {},
   "source": [
    "Our test data consists of the same 784 feature columns without the label column. Our test data contains the features of 28,000 different images."
   ]
  },
  {
   "cell_type": "markdown",
   "id": "d2a154b3",
   "metadata": {},
   "source": [
    "For a more visual understanding of how these columns represent digit images, I have displayed the actual digit images of 12 randomly chosen rows using the `.imshow()` function. "
   ]
  },
  {
   "cell_type": "code",
   "execution_count": 7,
   "id": "344216a3",
   "metadata": {
    "scrolled": true
   },
   "outputs": [
    {
     "data": {
      "image/png": "[encoded data removed]",
      "text/plain": [
       "<Figure size 720x576 with 12 Axes>"
      ]
     },
     "metadata": {
      "needs_background": "light"
     },
     "output_type": "display_data"
    }
   ],
   "source": [
    "np.random.seed(42)  # For Reproducibility\n",
    "fig, axes = plt.subplots(3, 4, figsize=(10, 8))\n",
    "axes = axes.ravel()\n",
    "indices = np.random.randint(0, train_data.shape[0], size=12)  # Grab 9 random indices from train data\n",
    "for i in range(12):\n",
    "    axes[i].imshow(train_data.drop(columns=['label']).values[indices[i], :].reshape(28, 28), cmap='gray')\n",
    "    axes[i].axis('off')  # Nobody cares about the axes :(\n",
    "    label = train_data['label'][indices[i]]  # The actual label for this data\n",
    "    axes[i].set_title(label, fontsize=20)\n",
    "plt.show()"
   ]
  },
  {
   "cell_type": "markdown",
   "id": "9100672f",
   "metadata": {},
   "source": [
    "Here's another glimpse of what one row of our data looks like, as an image and as an array:"
   ]
  },
  {
   "cell_type": "code",
   "execution_count": 8,
   "id": "d904f30a",
   "metadata": {},
   "outputs": [
    {
     "name": "stdout",
     "output_type": "stream",
     "text": [
      "Pictorially:\n"
     ]
    },
    {
     "data": {
      "image/png": "[encoded data removed]",
      "text/plain": [
       "<Figure size 720x576 with 1 Axes>"
      ]
     },
     "metadata": {
      "needs_background": "light"
     },
     "output_type": "display_data"
    },
    {
     "name": "stdout",
     "output_type": "stream",
     "text": [
      "What the computer receives:\n",
      "\n",
      "[[  0   0   0   0   0   0   0   0   0   0   0   0   0   0   0   0   0   0\n",
      "    0   0   0   0   0   0   0   0   0   0]\n",
      " [  0   0   0   0   0   0   0   0   0   0   0   0   0   0   0   0   0   0\n",
      "    0   0   0   0   0   0   0   0   0   0]\n",
      " [  0   0   0   0   0   0   0   0   0   0   0   0   0   0   0   0   0   0\n",
      "    0   0   0   0   0   0   0   0   0   0]\n",
      " [  0   0   0   0   0   0   0   0   0   0   0   0   0   0   0   0   0   0\n",
      "    0   0   0   0   0   0   0   0   0   0]\n",
      " [  0   0   0   0   0   0   0   0   0   0   0   0   0   0   0   0   0   0\n",
      "    0   0   0   0   0   0   0   0   0   0]\n",
      " [  0   0   0   0   0   0   0   0   0   0   0   0   0   0   0   0   0   0\n",
      "    0   0   0   0   0   0   0   0   0   0]\n",
      " [  0   0   0   0   0   0   0   0   0   0   0   0   7  24  24  97 253 253\n",
      "  253 253 255 180  48   0   0   0   0   0]\n",
      " [  0   0   0   0   0   0   0   0   0   0   0  30 186 252 252 253 252 252\n",
      "  252 252 253 252 227  29   0   0   0   0]\n",
      " [  0   0   0   0   0   0   0   0   0   0  38 155 252 252 252 253 252 252\n",
      "  227  79 222 252 252 129   0   0   0   0]\n",
      " [  0   0   0   0   0   0   0   0   0  85 233 252 252 252 252 253 252 252\n",
      "  202  11 180 252 252 119   0   0   0   0]\n",
      " [  0   0   0   0   0   0   0   0  43 240 253 252 252 252 252 253 252 252\n",
      "  244 126 201 252 252 150   0   0   0   0]\n",
      " [  0   0   0   0   0   0   0   7 212 253 255 253 253 253 232 221  42   0\n",
      "  104 253 255 253 205  21   0   0   0   0]\n",
      " [  0   0   0   0   0   0   0  25 223 252 253 252 252 214  18   0   0  34\n",
      "  215 252 253 223  56   0   0   0   0   0]\n",
      " [  0   0   0   0   0   0   0   0  99 246 253 252 252  77   0   7  70 203\n",
      "  252 252 173  25   0   0   0   0   0   0]\n",
      " [  0   0   0   0   0   0   0   0   0  42 253 252 252 236 103 160 252 252\n",
      "  218 108   0   0   0   0   0   0   0   0]\n",
      " [  0   0   0   0   0   0   0   0   0   0 148 252 252 252 252 253 231 106\n",
      "   14   0   0   0   0   0   0   0   0   0]\n",
      " [  0   0   0   0   0   0   0   0   0   0  24 253 253 253 253 255 159   7\n",
      "    0   0   0   0   0   0   0   0   0   0]\n",
      " [  0   0   0   0   0   0   0   0   0  43 118 252 240 244 252 253 231  37\n",
      "    0   0   0   0   0   0   0   0   0   0]\n",
      " [  0   0   0   0   0   0   0  19 164 246 253 187  50  99 246 253 252  69\n",
      "    0   0   0   0   0   0   0   0   0   0]\n",
      " [  0   0   0   0   0   0   0  80 232 252 203  58   0   0 135 253 252 121\n",
      "    0   0   0   0   0   0   0   0   0   0]\n",
      " [  0   0   0   0   0   0  43 246 252 200  11   0   0   0 116 253 252  69\n",
      "    0   0   0   0   0   0   0   0   0   0]\n",
      " [  0   0   0   0   0   0 162 253 192  11   0   0   0   0 179 255 253  69\n",
      "    0   0   0   0   0   0   0   0   0   0]\n",
      " [  0   0   0   0   0   5 178 252 119   0   5  47  47 140 244 253 252  69\n",
      "    0   0   0   0   0   0   0   0   0   0]\n",
      " [  0   0   0   0   0   7 186 252 227 184 191 252 252 252 252 253 240  50\n",
      "    0   0   0   0   0   0   0   0   0   0]\n",
      " [  0   0   0   0   0  11 144 227 252 252 253 252 252 252 252  98  37   0\n",
      "    0   0   0   0   0   0   0   0   0   0]\n",
      " [  0   0   0   0   0   0   0  48 137 242 253 231 137 137  32   0   0   0\n",
      "    0   0   0   0   0   0   0   0   0   0]\n",
      " [  0   0   0   0   0   0   0   0   0   0   0   0   0   0   0   0   0   0\n",
      "    0   0   0   0   0   0   0   0   0   0]\n",
      " [  0   0   0   0   0   0   0   0   0   0   0   0   0   0   0   0   0   0\n",
      "    0   0   0   0   0   0   0   0   0   0]]\n"
     ]
    }
   ],
   "source": [
    "fig, axes = plt.subplots(1, figsize=(10, 8))\n",
    "axes.imshow(train_data.drop(columns=['label']).values[indices[10], :].reshape(28, 28), cmap='gray')\n",
    "axes.set_title(label, fontsize=40)\n",
    "print(\"Pictorially:\")\n",
    "plt.show()\n",
    "print(\"What the computer receives:\")\n",
    "print()\n",
    "print(train_data.drop(columns =['label']).values[10, :].reshape(28, 28))"
   ]
  },
  {
   "cell_type": "markdown",
   "id": "c0b3cbc8",
   "metadata": {},
   "source": [
    "We now get a clear idea of what our data represents. We proceed to normalize and split our data. We also perform One Hot Encoding on our \"label\" values. "
   ]
  },
  {
   "cell_type": "code",
   "execution_count": 9,
   "id": "dc3019ab",
   "metadata": {},
   "outputs": [],
   "source": [
    "Y_train = to_categorical(train_data['label'].values, num_classes = 10)\n",
    "X_train = train_data.drop(columns =['label']).values\n",
    "X_test = test_data.values"
   ]
  },
  {
   "cell_type": "code",
   "execution_count": 10,
   "id": "37b0c491",
   "metadata": {},
   "outputs": [
    {
     "data": {
      "text/plain": [
       "array([[0., 1., 0., ..., 0., 0., 0.],\n",
       "       [1., 0., 0., ..., 0., 0., 0.],\n",
       "       [0., 1., 0., ..., 0., 0., 0.],\n",
       "       ...,\n",
       "       [0., 0., 0., ..., 1., 0., 0.],\n",
       "       [0., 0., 0., ..., 0., 0., 0.],\n",
       "       [0., 0., 0., ..., 0., 0., 1.]], dtype=float32)"
      ]
     },
     "execution_count": 10,
     "metadata": {},
     "output_type": "execute_result"
    }
   ],
   "source": [
    "Y_train"
   ]
  },
  {
   "cell_type": "markdown",
   "id": "c21e02c4",
   "metadata": {},
   "source": [
    "***\n",
    "# Creating a Neural Network"
   ]
  },
  {
   "cell_type": "markdown",
   "id": "29bf93c7",
   "metadata": {},
   "source": [
    "We use the TensorFlow and Keras libraries to create a generic function using which we can create our neural network. Our function creates a **Sequential** model by adding the first layer, then the hidden layers, then the output layer, and finally compiling the model using an optimizer, loss function, and evaluation metric. The number of inputs, outputs, sizes and activation functions for each hidden layer, and optimizer are all passed in as arguments of the function. \n",
    "\n",
    "As our model only comprises of an input layer, hidden layers, and an output layer, we create an **Artificial Neural Network** with a **feedforward** mechanism. This is because our inputs are only processed in the forward direction."
   ]
  },
  {
   "cell_type": "code",
   "execution_count": 11,
   "id": "5953888e",
   "metadata": {},
   "outputs": [],
   "source": [
    "def create_network(num_inputs: int, \n",
    "            num_outputs: int, \n",
    "            hidden_layer_sizes: List[int], \n",
    "            activations: List[str], \n",
    "            optimizer: Optimizer) -> Sequential:\n",
    "    \"\"\"\n",
    "    Creates a complete Neural Network where\n",
    "        num_inputs: Number of input features exluding the bias\n",
    "        num_outputs: Number of outputs\n",
    "        hidden_layer_sizes: A list representing the number of hidden units in each layer\n",
    "        activations: A list containing which activation to use after each layer\n",
    "        optimizer: An optimizer to use\n",
    "    \"\"\"\n",
    "    assert len(hidden_layer_sizes) == len(activations), 'activations need to be the same length as hidden_layer_sizes'\n",
    "    num_layers = len(hidden_layer_sizes) + 1\n",
    "    model = Sequential(name=\"{}layerNeuralNetwork\".format(num_layers))\n",
    "\n",
    "    first_layer = True;\n",
    "    \n",
    "    # Adding Layers\n",
    "    for layer in range(len(hidden_layer_sizes)):\n",
    "        layer_name = 'Layer' + str(layer)\n",
    "        \n",
    "        # Adding the first layer\n",
    "        if first_layer:\n",
    "            model.add(Dense(hidden_layer_sizes[layer], activation=activations[layer], name='Input', input_shape=(num_inputs,)))\n",
    "            first_layer = False;\n",
    "\n",
    "        # Adding Hidden Layers\n",
    "        else:\n",
    "            model.add(Dense(hidden_layer_sizes[layer], activation=activations[layer], name=layer_name))\n",
    "            \n",
    "    # Add output layer\n",
    "    model.add(Dense(num_outputs, activation='softmax', name='Output'))\n",
    "    \n",
    "    # Compiling the model by specifying the optimzer, loss function, and evaluation metric\n",
    "    model.compile(optimizer=optimizer, loss='categorical_crossentropy', metrics=['accuracy'])\n",
    "    \n",
    "    return model;    "
   ]
  },
  {
   "cell_type": "markdown",
   "id": "f94606c5",
   "metadata": {},
   "source": [
    "We use the [**Softmax**](https://www.tensorflow.org/api_docs/python/tf/keras/activations/softmax) activation function in our output layer. This is because we want our output to be in the form of a probability distribution of our input belonging to a given class (with respect to the current set of weights in the neural network). This translates to the probability distribution of an image belonging to 0,1,2,...9. Softmax also works well with backpropagation, which is critical for our neural network to update its weights in order to make better predictions. \n",
    "\n",
    "To calculate the crossentropy loss for a training cycle, we use the probability distribution outputted by the Softmax activation function of the output layer. This loss is calculated by a loss function using labels and predictions. In our neural network, as the true output values of our input data (`Y_train`) has been One Hot encoded, the loss function we use is [**CategoricalCrossentropy**](https://www.tensorflow.org/api_docs/python/tf/keras/losses/CategoricalCrossentropy). We also make the canonical choice of using the \"Accuracy\" metric for evaluating our model's performance."
   ]
  },
  {
   "cell_type": "markdown",
   "id": "5af99de4",
   "metadata": {},
   "source": [
    "We now proceed to creating our model by specifying the arguments passed in `create_network`."
   ]
  },
  {
   "cell_type": "code",
   "execution_count": 12,
   "id": "871e92f0",
   "metadata": {},
   "outputs": [
    {
     "data": {
      "text/plain": [
       "42000"
      ]
     },
     "execution_count": 12,
     "metadata": {},
     "output_type": "execute_result"
    }
   ],
   "source": [
    "len(Y_train)"
   ]
  },
  {
   "cell_type": "code",
   "execution_count": 13,
   "id": "0cff5ee1",
   "metadata": {},
   "outputs": [],
   "source": [
    "inputs = X_train.shape[1]\n",
    "outputs = len((Y_train[0]))\n",
    "optimizer = Adam()\n",
    "hidden_layer_sizes = [256]\n",
    "activations = ['relu']\n",
    "\n",
    "model = create_network(num_inputs = inputs, \n",
    "                       num_outputs = outputs, \n",
    "                       optimizer=optimizer,\n",
    "                       hidden_layer_sizes = hidden_layer_sizes, \n",
    "                       activations= activations)"
   ]
  },
  {
   "cell_type": "markdown",
   "id": "c1865c92",
   "metadata": {},
   "source": [
    "We use the [**Adam algorithm**](https://keras.io/api/optimizers/adam/) as our optimizer to control the back propagation process. This is because this algorithm is \"computationally efficient, has little memory requirement, (...) and is well suited for problems that are large in terms of data/parameters\" according to Kingma et al., 2014.\n",
    "\n",
    "We also use the **Rectified Linear Unit** (ReLU) as our activation function for the hidden layers as it's more computationally efficient compared to other activation functions such as Sigmoid-like functions. The output of each hidden layer passes through the ReLU activation function that simply returns `max(output, 0)`.\n",
    "\n",
    "We now proceed to fitting the model we created to our dataset:"
   ]
  },
  {
   "cell_type": "code",
   "execution_count": 14,
   "id": "7026918e",
   "metadata": {},
   "outputs": [],
   "source": [
    "seed=0\n",
    "X_train, X_val, Y_train, Y_val = train_test_split(X_train, Y_train, test_size=.2, random_state=seed)"
   ]
  },
  {
   "cell_type": "markdown",
   "id": "40e115a6",
   "metadata": {},
   "source": [
    "In order to quicken the training process, we use a regularization technique called **[Early Stopping](https://keras.io/api/callbacks/early_stopping/)**. What this does is that it monitors the change in the validation set's loss over the training process across the given epochs (number of training cycles). When there is no global improvement in the validation loss of the model over the course of a preset number of training cycles, then the model terminates further training. It then uses the weights assigned in to the network in the training cycle where the lowest global validation loss was achieved.\n",
    "\n",
    "This regularization technique reduces training time significantly, with a very slight compromise on the accuracy on the training set. In our model, we set the preset number of training cycles where no improvement is seen to equal 10 (≈20% of total epochs)."
   ]
  },
  {
   "cell_type": "code",
   "execution_count": 15,
   "id": "0531cf0c",
   "metadata": {},
   "outputs": [
    {
     "name": "stdout",
     "output_type": "stream",
     "text": [
      "Train on 33600 samples, validate on 8400 samples\n",
      "Epoch 1/50\n",
      "33600/33600 [==============================] - 7s 210us/sample - loss: 4.1785 - accuracy: 0.8791 - val_loss: 0.9585 - val_accuracy: 0.9158\n",
      "Epoch 2/50\n",
      "33600/33600 [==============================] - 6s 187us/sample - loss: 0.5012 - accuracy: 0.9275 - val_loss: 0.5335 - val_accuracy: 0.9121\n",
      "Epoch 3/50\n",
      "33600/33600 [==============================] - 6s 167us/sample - loss: 0.3325 - accuracy: 0.9374 - val_loss: 0.6234 - val_accuracy: 0.9144\n",
      "Epoch 4/50\n",
      "33600/33600 [==============================] - 6s 173us/sample - loss: 0.2955 - accuracy: 0.9411 - val_loss: 0.4553 - val_accuracy: 0.9300\n",
      "Epoch 5/50\n",
      "33600/33600 [==============================] - 6s 183us/sample - loss: 0.2974 - accuracy: 0.9429 - val_loss: 0.4015 - val_accuracy: 0.9354\n",
      "Epoch 6/50\n",
      "33600/33600 [==============================] - 6s 181us/sample - loss: 0.2465 - accuracy: 0.9496 - val_loss: 0.3499 - val_accuracy: 0.9363\n",
      "Epoch 7/50\n",
      "33600/33600 [==============================] - 7s 197us/sample - loss: 0.2154 - accuracy: 0.9550 - val_loss: 0.3358 - val_accuracy: 0.9399\n",
      "Epoch 8/50\n",
      "33600/33600 [==============================] - 6s 178us/sample - loss: 0.2085 - accuracy: 0.9563 - val_loss: 0.4059 - val_accuracy: 0.9375\n",
      "Epoch 9/50\n",
      "33600/33600 [==============================] - 6s 170us/sample - loss: 0.2225 - accuracy: 0.9550 - val_loss: 0.3646 - val_accuracy: 0.9367\n",
      "Epoch 10/50\n",
      "33600/33600 [==============================] - 6s 173us/sample - loss: 0.1981 - accuracy: 0.9596 - val_loss: 0.4543 - val_accuracy: 0.9387\n",
      "Epoch 11/50\n",
      "33600/33600 [==============================] - 6s 180us/sample - loss: 0.1915 - accuracy: 0.9602 - val_loss: 0.3379 - val_accuracy: 0.9464\n",
      "Epoch 12/50\n",
      "33600/33600 [==============================] - 8s 225us/sample - loss: 0.1882 - accuracy: 0.9637 - val_loss: 0.3805 - val_accuracy: 0.9511\n",
      "Epoch 13/50\n",
      "33600/33600 [==============================] - 7s 201us/sample - loss: 0.1777 - accuracy: 0.9653 - val_loss: 0.3437 - val_accuracy: 0.9490\n",
      "Epoch 14/50\n",
      "33600/33600 [==============================] - 7s 196us/sample - loss: 0.1646 - accuracy: 0.9663 - val_loss: 0.3642 - val_accuracy: 0.9527\n",
      "Epoch 15/50\n",
      "33600/33600 [==============================] - 7s 200us/sample - loss: 0.1450 - accuracy: 0.9707 - val_loss: 0.4405 - val_accuracy: 0.9463\n",
      "Epoch 16/50\n",
      "33600/33600 [==============================] - 7s 200us/sample - loss: 0.1562 - accuracy: 0.9686 - val_loss: 0.4381 - val_accuracy: 0.9507\n",
      "Epoch 17/50\n",
      "33600/33600 [==============================] - 10s 292us/sample - loss: 0.1518 - accuracy: 0.9693 - val_loss: 0.4387 - val_accuracy: 0.9565\n"
     ]
    },
    {
     "data": {
      "text/plain": [
       "<tensorflow.python.keras.callbacks.History at 0x7fc4047a8610>"
      ]
     },
     "execution_count": 15,
     "metadata": {},
     "output_type": "execute_result"
    }
   ],
   "source": [
    "callback = tf.keras.callbacks.EarlyStopping(monitor='val_loss', patience=10, restore_best_weights= True)\n",
    "model.fit(X_train, Y_train, epochs=50, validation_data=(X_val, Y_val), \n",
    "          callbacks=[callback], verbose=1)\n"
   ]
  },
  {
   "cell_type": "markdown",
   "id": "52110d5a",
   "metadata": {},
   "source": [
    "Now that we have created and fit our model, we can proceed to evaluating the performance of our model by calculating the loss and accuracy."
   ]
  },
  {
   "cell_type": "code",
   "execution_count": 16,
   "id": "d00a4d78",
   "metadata": {},
   "outputs": [
    {
     "data": {
      "text/plain": [
       "[0.3358023902736161, 0.93988097]"
      ]
     },
     "execution_count": 16,
     "metadata": {},
     "output_type": "execute_result"
    }
   ],
   "source": [
    "model.evaluate(X_val, Y_val, verbose = 0)"
   ]
  },
  {
   "cell_type": "markdown",
   "id": "c311f9c7",
   "metadata": {},
   "source": [
    "We get a **93.99%** accuracy on our validation data. We proceed to adding multiple hidden layers to create a Deep Neural Network in order to increase our accuracy."
   ]
  },
  {
   "cell_type": "markdown",
   "id": "fab89499",
   "metadata": {},
   "source": [
    "### Creating a Deep Neural Network"
   ]
  },
  {
   "cell_type": "markdown",
   "id": "70fc2988",
   "metadata": {},
   "source": [
    "We add three of the hidden layers we added before with the same configurations except the number of neurons in each hidden layer. We create a network that contains hidden layers with 256, 128, and 64 neurons each. "
   ]
  },
  {
   "cell_type": "code",
   "execution_count": 17,
   "id": "14a2147f",
   "metadata": {},
   "outputs": [],
   "source": [
    "inputs = X_train.shape[1]\n",
    "outputs = len((Y_train[0]))\n",
    "optimizer = Adam()\n",
    "hidden_layer_sizes = [256, 128, 64]\n",
    "activations = ['relu'] * 3\n",
    "\n",
    "model = create_network(num_inputs = inputs, \n",
    "                       num_outputs = outputs, \n",
    "                       optimizer=optimizer,\n",
    "                       hidden_layer_sizes = hidden_layer_sizes, \n",
    "                       activations= activations)"
   ]
  },
  {
   "cell_type": "markdown",
   "id": "f37e39cd",
   "metadata": {},
   "source": [
    "We continue to fit and evaluate our model as done before."
   ]
  },
  {
   "cell_type": "code",
   "execution_count": 18,
   "id": "161e7381",
   "metadata": {},
   "outputs": [
    {
     "name": "stdout",
     "output_type": "stream",
     "text": [
      "Train on 33600 samples, validate on 8400 samples\n",
      "Epoch 1/50\n",
      "33600/33600 [==============================] - 8s 246us/sample - loss: 1.5319 - accuracy: 0.8600 - val_loss: 0.3786 - val_accuracy: 0.9210\n",
      "Epoch 2/50\n",
      "33600/33600 [==============================] - 7s 204us/sample - loss: 0.2796 - accuracy: 0.9317 - val_loss: 0.2881 - val_accuracy: 0.9331\n",
      "Epoch 3/50\n",
      "33600/33600 [==============================] - 7s 213us/sample - loss: 0.1838 - accuracy: 0.9505 - val_loss: 0.2416 - val_accuracy: 0.9460\n",
      "Epoch 4/50\n",
      "33600/33600 [==============================] - 8s 246us/sample - loss: 0.1573 - accuracy: 0.9567 - val_loss: 0.2476 - val_accuracy: 0.9417\n",
      "Epoch 5/50\n",
      "33600/33600 [==============================] - 15s 448us/sample - loss: 0.1434 - accuracy: 0.9597 - val_loss: 0.2472 - val_accuracy: 0.9463\n",
      "Epoch 6/50\n",
      "33600/33600 [==============================] - 12s 371us/sample - loss: 0.1214 - accuracy: 0.9652 - val_loss: 0.1729 - val_accuracy: 0.9519\n",
      "Epoch 7/50\n",
      "33600/33600 [==============================] - 9s 281us/sample - loss: 0.0980 - accuracy: 0.9701 - val_loss: 0.1857 - val_accuracy: 0.9535\n",
      "Epoch 8/50\n",
      "33600/33600 [==============================] - 8s 250us/sample - loss: 0.0978 - accuracy: 0.9723 - val_loss: 0.1487 - val_accuracy: 0.9707\n",
      "Epoch 9/50\n",
      "33600/33600 [==============================] - 9s 272us/sample - loss: 0.0879 - accuracy: 0.9747 - val_loss: 0.2150 - val_accuracy: 0.9523\n",
      "Epoch 10/50\n",
      "33600/33600 [==============================] - 8s 234us/sample - loss: 0.0833 - accuracy: 0.9769 - val_loss: 0.1678 - val_accuracy: 0.9627\n",
      "Epoch 11/50\n",
      "33600/33600 [==============================] - 10s 296us/sample - loss: 0.0784 - accuracy: 0.9774 - val_loss: 0.1641 - val_accuracy: 0.9680\n",
      "Epoch 12/50\n",
      "33600/33600 [==============================] - 11s 338us/sample - loss: 0.0615 - accuracy: 0.9825 - val_loss: 0.1603 - val_accuracy: 0.9681\n",
      "Epoch 13/50\n",
      "33600/33600 [==============================] - 9s 266us/sample - loss: 0.0565 - accuracy: 0.9838 - val_loss: 0.1623 - val_accuracy: 0.9668\n",
      "Epoch 14/50\n",
      "33600/33600 [==============================] - 8s 251us/sample - loss: 0.0619 - accuracy: 0.9831 - val_loss: 0.1572 - val_accuracy: 0.9706\n",
      "Epoch 15/50\n",
      "33600/33600 [==============================] - 8s 243us/sample - loss: 0.0524 - accuracy: 0.9861 - val_loss: 0.1587 - val_accuracy: 0.9685\n",
      "Epoch 16/50\n",
      "33600/33600 [==============================] - 9s 267us/sample - loss: 0.0503 - accuracy: 0.9865 - val_loss: 0.1893 - val_accuracy: 0.9657\n",
      "Epoch 17/50\n",
      "33600/33600 [==============================] - 9s 273us/sample - loss: 0.0481 - accuracy: 0.9862 - val_loss: 0.1951 - val_accuracy: 0.9692\n",
      "Epoch 18/50\n",
      "33600/33600 [==============================] - 10s 298us/sample - loss: 0.0438 - accuracy: 0.9885 - val_loss: 0.1786 - val_accuracy: 0.9688\n"
     ]
    },
    {
     "data": {
      "text/plain": [
       "<tensorflow.python.keras.callbacks.History at 0x7fc40d1ffe10>"
      ]
     },
     "execution_count": 18,
     "metadata": {},
     "output_type": "execute_result"
    }
   ],
   "source": [
    "callback = tf.keras.callbacks.EarlyStopping(monitor='val_loss', patience=10, restore_best_weights= True)\n",
    "model.fit(X_train, Y_train, epochs=50, validation_data=(X_val, Y_val), \n",
    "          callbacks=[callback], verbose=1)"
   ]
  },
  {
   "cell_type": "code",
   "execution_count": 19,
   "id": "7bde0ad6",
   "metadata": {},
   "outputs": [
    {
     "data": {
      "text/plain": [
       "[0.1487026604890291, 0.9707143]"
      ]
     },
     "execution_count": 19,
     "metadata": {},
     "output_type": "execute_result"
    }
   ],
   "source": [
    "model.evaluate(X_val, Y_val, verbose = 0)"
   ]
  },
  {
   "cell_type": "markdown",
   "id": "447b0355",
   "metadata": {},
   "source": [
    "We get a **97.07%** accuracy on our validation data. Simply changing hyperparameters- number of hidden layers and the neurons per hidden layers- caused us to slightly increase our accuracy."
   ]
  },
  {
   "cell_type": "markdown",
   "id": "113fbd59",
   "metadata": {},
   "source": [
    "Although a **97.07%** accuracy is pretty good for our classifier, we can try developing a slightly enhanced neural network, one that is particularly effective in image recognition. "
   ]
  },
  {
   "cell_type": "markdown",
   "id": "afd80784",
   "metadata": {},
   "source": [
    "## Creating a Convolutional Neural Network (CNN)"
   ]
  },
  {
   "cell_type": "markdown",
   "id": "ffd2635d",
   "metadata": {},
   "source": [
    "The CNN helps in image classification in three ways. It helps us in reducing the size of the input, it allows us to tolerate small shifts in image structures, and it identifies correlation between neighbouring pixels in an image. These properties of a CNN make it ideal for image classification.\n",
    "\n",
    "It works by applying **filters** (kernels) on the primary image. This filter linearly transforms a portion of the image (convolvement) and creates an output map using these linearly transformed values for all portions of the primary image. This output map consists of values that correspond to portions of neighbouring regions on the primary image, thereby taking advantage of any correlations that existed in the primary image. Passing this output map through a **ReLU activation function** and then performing **Max-pooling** allows us to reduce the select the regions of the image where the filter matched the image the most and reduce the dimensionality. This is then passed in as the input layer of a simple feedforward neural network. \n",
    "\n",
    "We create a function to model the CNN:"
   ]
  },
  {
   "cell_type": "code",
   "execution_count": 20,
   "id": "3fcfaf3a",
   "metadata": {},
   "outputs": [],
   "source": [
    "def create_cnn():\n",
    "    model = Sequential(name='CNN')\n",
    "    \n",
    "    # Conv + Batch norm + Conv + MaxPool + Dropout\n",
    "    model.add(Conv2D(filters=32, kernel_size=(5,5), padding='same', \n",
    "                     activation='relu', input_shape=(28, 28, 1)))\n",
    "    model.add(BatchNormalization())\n",
    "    model.add(Conv2D(filters=32, kernel_size=(5,5), padding='same', activation='relu'))\n",
    "    model.add(MaxPool2D(pool_size=(2, 2)))  # Downscale\n",
    "    model.add(Dropout(rate=.25))\n",
    "    \n",
    "    # Conv + Batch norm + Conv + MaxPool + Dropout\n",
    "    model.add(Conv2D(filters=64, kernel_size=(3,3), padding='same', activation='relu'))\n",
    "    model.add(BatchNormalization())\n",
    "    model.add(Conv2D(filters=64, kernel_size=(3,3), padding='same', activation='relu'))\n",
    "    model.add(MaxPool2D(pool_size=(2, 2), strides=(2, 2)))  # Downscale\n",
    "    model.add(Dropout(rate=.25))\n",
    "    \n",
    "    # Flatten + Dense + Dropout + Dense (output)\n",
    "    model.add(Flatten())\n",
    "    model.add(Dense(256, activation='relu'))\n",
    "    model.add(Dropout(rate=.5))\n",
    "    model.add(Dense(10, activation='softmax'))\n",
    "    \n",
    "    model.compile(optimizer='adam', loss='categorical_crossentropy', metrics=['accuracy'])\n",
    "    return model"
   ]
  },
  {
   "cell_type": "markdown",
   "id": "3c083cdb",
   "metadata": {},
   "source": [
    "In order to optimze the \"learning rate\" hyperparameter during the training process, we utilize a tuning method called **ReduceLROnPlateau**. What this does is that it reduces the learning rate when a preset metric has stopped improving. In our model, the preset metric is the accuracy of the validation set (`val_accuracy`). The learning is reduced by a `factor` = 0.2. Our model waits for a preset number of training cycles before determining that no improvement is occuring for the given learning rate, in our case this equals 5 (≈10% of total epochs)."
   ]
  },
  {
   "cell_type": "code",
   "execution_count": 21,
   "id": "6110a3f2",
   "metadata": {},
   "outputs": [],
   "source": [
    "reduce_lr = ReduceLROnPlateau(monitor='val_accuracy', factor=.2, patience=5, min_lr=1e-5, verbose=1)"
   ]
  },
  {
   "cell_type": "code",
   "execution_count": 22,
   "id": "2f957040",
   "metadata": {},
   "outputs": [],
   "source": [
    "cnn_model = create_cnn()\n",
    "X_train_img = X_train.reshape(-1, 28, 28, 1)\n",
    "X_val_img = X_val.reshape(-1, 28, 28, 1)\n",
    "X_test_img = X_test.reshape(-1, 28, 28, 1)"
   ]
  },
  {
   "cell_type": "markdown",
   "id": "892b4ace",
   "metadata": {},
   "source": [
    "We proceed to fit our model to our data and then evaluate its performance:"
   ]
  },
  {
   "cell_type": "code",
   "execution_count": 23,
   "id": "13be37ce",
   "metadata": {},
   "outputs": [
    {
     "data": {
      "text/plain": [
       "<tensorflow.python.keras.callbacks.History at 0x7fc40df35c10>"
      ]
     },
     "execution_count": 23,
     "metadata": {},
     "output_type": "execute_result"
    }
   ],
   "source": [
    "cnn_model.fit(X_train_img, Y_train, epochs=10, validation_data=(X_val_img, Y_val), callbacks=[reduce_lr], verbose = 0)"
   ]
  },
  {
   "cell_type": "code",
   "execution_count": 24,
   "id": "6293ce8f",
   "metadata": {},
   "outputs": [
    {
     "data": {
      "text/plain": [
       "[0.038079282459041006, 0.9910714]"
      ]
     },
     "execution_count": 24,
     "metadata": {},
     "output_type": "execute_result"
    }
   ],
   "source": [
    "cnn_model.evaluate(X_val_img, Y_val, verbose = 0)"
   ]
  },
  {
   "cell_type": "markdown",
   "id": "0eae99e9",
   "metadata": {},
   "source": [
    "The CNN hence gives us an accuracy of **99.1%**, which is a significant improvement compared to previously developed models. "
   ]
  },
  {
   "cell_type": "markdown",
   "id": "7a2a5c58",
   "metadata": {},
   "source": [
    "We now construct a **confusion matrix** to better see how our model classified each input class."
   ]
  },
  {
   "cell_type": "code",
   "execution_count": 25,
   "id": "e630fcf1",
   "metadata": {},
   "outputs": [],
   "source": [
    "# Taken from https://scikit-learn.org/stable/auto_examples/model_selection/plot_confusion_matrix.html\n",
    "def plot_confusion_matrix(y_true, y_pred, classes, figsize,\n",
    "                          normalize=False,\n",
    "                          title=None,\n",
    "                          cmap=plt.cm.Blues):\n",
    "    \"\"\"\n",
    "    This function prints and plots the confusion matrix.\n",
    "    \"\"\"\n",
    "    title = 'Confusion matrix, without normalization'\n",
    "\n",
    "    # Compute confusion matrix\n",
    "    cm = confusion_matrix(y_true, y_pred)\n",
    "    \n",
    "    fig, ax = plt.subplots(1,1, figsize=figsize)\n",
    "    im = ax.imshow(cm, interpolation='nearest', cmap=cmap)\n",
    "    ax.figure.colorbar(im, ax=ax)\n",
    "    # We want to show all ticks...\n",
    "    ax.set(xticks=np.arange(cm.shape[1]),\n",
    "           yticks=np.arange(cm.shape[0]),\n",
    "           # ... and label them with the respective list entries\n",
    "           xticklabels=classes, yticklabels=classes,\n",
    "           title=title,\n",
    "           ylabel='True label',\n",
    "           xlabel='Predicted label')\n",
    "\n",
    "    # Rotate the tick labels and set their alignment.\n",
    "    plt.setp(ax.get_xticklabels(), rotation=45, ha=\"right\",\n",
    "             rotation_mode=\"anchor\")\n",
    "\n",
    "    # Loop over data dimensions and create text annotations.\n",
    "    fmt = '.2f' if normalize else 'd'\n",
    "    thresh = cm.max() / 2.\n",
    "    for i in range(cm.shape[0]):\n",
    "        for j in range(cm.shape[1]):\n",
    "            ax.text(j, i, format(cm[i, j], fmt),\n",
    "                    ha=\"center\", va=\"center\",\n",
    "                    color=\"white\" if cm[i, j] > thresh else \"black\")\n",
    "    fig.tight_layout()\n",
    "#     return ax"
   ]
  },
  {
   "cell_type": "code",
   "execution_count": 28,
   "id": "b22190cc",
   "metadata": {},
   "outputs": [
    {
     "data": {
      "image/png": "[encoded data removed]",
      "text/plain": [
       "<Figure size 576x432 with 2 Axes>"
      ]
     },
     "metadata": {
      "needs_background": "light"
     },
     "output_type": "display_data"
    }
   ],
   "source": [
    "y_true = np.argmax(Y_val, axis=1)\n",
    "X_val_img = X_val_img.astype('float')\n",
    "y_pred = cnn_model.predict(X_val_img)\n",
    "y_pred = np.argmax(y_pred, axis=1)\n",
    "plot_confusion_matrix(y_true, y_pred, range(10), (8,6), False, 'Confusion Matrix')"
   ]
  },
  {
   "cell_type": "markdown",
   "id": "82555e8b",
   "metadata": {},
   "source": [
    "Down the diagonal from top-left to bottom-right we can see the number of predictions that matched the true labels. We can therefore see which input class was misclassified as which output class the most. This would be the label \"9\" being misclassified as \"8\" as the total number of these misclassifications = 9, the highest amongst all misclassifications. Another notable misclassification is that of a 9 to a 4, with 8 such occurances.\n",
    "\n",
    "To summarise, our model achieved a **>99% accuracy**. We can further use our trained CNN to evaluate real world data and further tune its performance."
   ]
  },
  {
   "cell_type": "markdown",
   "id": "73e85a77",
   "metadata": {},
   "source": [
    "***"
   ]
  }
 ],
 "metadata": {
  "kernelspec": {
   "display_name": "Python 3 (ipykernel)",
   "language": "python",
   "name": "python3"
  },
  "language_info": {
   "codemirror_mode": {
    "name": "ipython",
    "version": 3
   },
   "file_extension": ".py",
   "mimetype": "text/x-python",
   "name": "python",
   "nbconvert_exporter": "python",
   "pygments_lexer": "ipython3",
   "version": "3.7.13"
  }
 },
 "nbformat": 4,
 "nbformat_minor": 5
}
